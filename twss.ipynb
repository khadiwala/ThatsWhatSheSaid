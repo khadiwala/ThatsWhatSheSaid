{
 "metadata": {
  "name": "twss"
 },
 "nbformat": 3,
 "nbformat_minor": 0,
 "worksheets": [
  {
   "cells": [
    {
     "cell_type": "markdown",
     "metadata": {},
     "source": [
      "That's What She Said: Automated Detection of Innuendos\n",
      "======================================================\n",
      "\n",
      "Here a describe my second pass at writing a classifier that can detect sentences that are likely to contain sexual inuendos. Both implementations can be found on [github](https://github.com/mrgrieves/ThatsWhatSheSaid), as well as this notebook. My primary motivation was to familiarize myself with the basics of the very easy to use [scikit-learn](http://scikit-learn.org/stable/) library, as opposed to using the basic classifiers in nltk. I also got substantially better performance and memory usage, and used a cool feature extraction technique that is well suited to bag of words models. Also I learned the wonder that is blogging with ipython notebooks, which is the coolest thing since sliced bread. "
     ]
    },
    {
     "cell_type": "markdown",
     "metadata": {},
     "source": [
      "Process the Data\n",
      "========================\n",
      "\n",
      "The data folder of the github project contains three sources. Two are of negative instances: one scraped from fmylife and the other from texts from last night. The thought here is that these samples would be written a similar tone and style to twss instances without being twss worthy. The positive samples are scraped from twss. The punctuation has already been processed out, and the data has been slightly cleaned. This [data](http://blog.echen.me/2011/05/05/twss-building-a-thats-what-she-said-classifier/) (also availiable in my repo) was scraped by Edwin Chen, and the approach seems to be from this [paper](http://www.aclweb.org/anthology-new/P/P11/P11-2016.pdf)"
     ]
    },
    {
     "cell_type": "code",
     "collapsed": false,
     "input": [
      "from itertools import chain\n",
      "import numpy as np\n",
      "\n",
      "load = lambda x  : open(x).readlines()\n",
      "stopwords = set(open(load(\"english\")))\n",
      "stopwords.add(\"twss\")\n",
      "stopwords.add(\"fml\")\n",
      "pos = load(\"data/twss-stories-parsed.txt\")\n",
      "negs = [\"data/fmylife-parsed.txt\",\"data/texts-from-last-night-parsed.txt\"]\n",
      "neg = list(chain(*map(load,negs)))\n",
      "\n",
      "def tokens(s):\n",
      "    return [word for word in s.rstrip().lower().split() if word not in stopwords]\n",
      "\n",
      "pos_f = map(tokens, pos)\n",
      "neg_f = map(tokens, neg)\n",
      "all_f = chain(pos_f,neg_f)\n",
      "target = np.concatenate([np.ones(len(pos)),np.zeros(len(neg))])"
     ],
     "language": "python",
     "metadata": {},
     "outputs": [],
     "prompt_number": 18
    },
    {
     "cell_type": "markdown",
     "metadata": {},
     "source": [
      "Feature Extraction\n",
      "==================\n",
      "\n",
      "Hash Trick\n",
      "----------\n",
      "Here's the more interesting part. This uses the fairly recent FeatureHasher functionality in SciKit-Learn starting with version 0.13.\n",
      "\n",
      "With any text classification that has a decent size corpus, we can expect to see a huge number of features. However, each instance has very few of these features active. The first way to mitigate this effect is to use a [sparse matrix](http://docs.scipy.org/doc/scipy/reference/generated/scipy.sparse.csr_matrix.html#scipy.sparse.csr_matrix) as representation of the feature vectors. The additional benefit that the [hash trick](http://scikit-learn.org/stable/modules/feature_extraction.html#feature-hashing) provides is that the hash maps directly to the indicies in the array. This means we don't have to keep an in memory mapping to feature indicies. \n",
      "\n",
      "I had previously implemented this using a more straightforward approach and paid pretty large memory costs, that bottlenecked the entire process. Add to that I had not discovered the beauty of ipython notebooks and their mechanism modularizing code and only running certain cells, and I had a very slow development cycle. That's the implementation in the master branch of my twss repo. \n",
      "\n",
      "Negatives\n",
      "---------\n",
      "You can't go backwords from the hashes to the features, so you lose the ability to easily introspect about the performance of features in the classifier. Because of this, I pulled out some info on the most informative features when I did this experiment with nltk's implementation of naive bayes at the end of this post. Because dirty words are funny. Since this was mostly to try out different models and an interesting feature extraction technique, I did not go through the pain of mapping every single feature to it's index to find which features corresponded to the indicies that were most informative in the classifiers I tried out.\n",
      "\n",
      "Potential collisions grow more likely as you approach the size of the hash space, $2^{31}$, (which I clearly do not with this data set). They are slightly mitigated by using a signed hash that determines the sign of the feature. This means collisions are more likely to cancel out than accumulate bias. It was suggested in [Weinberger et al](http://alex.smola.org/papers/2009/Weinbergeretal09.pdf)"
     ]
    },
    {
     "cell_type": "code",
     "collapsed": false,
     "input": [
      "from sklearn import feature_extraction as fe\n",
      "fh = fe.FeatureHasher(input_type='string')\n",
      "all_h = fh.transform(all_f)"
     ],
     "language": "python",
     "metadata": {},
     "outputs": [],
     "prompt_number": 20
    },
    {
     "cell_type": "markdown",
     "metadata": {},
     "source": [
      "Classification\n",
      "==============\n",
      "\n",
      "Benchmarking\n",
      "------------\n",
      "I pulled and modified some code to do the evaluation and timing (as well as the plotting further down), from the very good example from scikit [Classification of Text Documents using Sparse Features](http://scikit-learn.org/0.13/auto_examples/document_classification_20newsgroups.html). "
     ]
    },
    {
     "cell_type": "code",
     "collapsed": false,
     "input": [
      "from sklearn import metrics\n",
      "from time import time\n",
      "\n",
      "\n",
      "def benchmark(clf, X, Y, train, test):\n",
      "    clf_descr = clf[0]\n",
      "    clf = clf[1]\n",
      "    print(80 * '_')\n",
      "    print(\"Training: \")\n",
      "    print(clf)\n",
      "    t0 = time()\n",
      "    clf.fit(X[train], Y[train])\n",
      "    train_time = time() - t0\n",
      "    print(\"train time: %0.3fs\" % train_time)\n",
      "\n",
      "    t0 = time()\n",
      "    pred = clf.predict(X[test])\n",
      "    test_time = time() - t0\n",
      "    print(\"test time:  %0.3fs\" % test_time)\n",
      "\n",
      "    score = metrics.f1_score(Y[test], pred)\n",
      "    print(\"f1-score:   %0.3f\" % score)\n",
      "\n",
      "    print(\"confusion matrix:\")\n",
      "    print(metrics.confusion_matrix(Y[test], pred))\n",
      "\n",
      "    print()\n",
      "    return clf_descr, score, train_time, test_time"
     ],
     "language": "python",
     "metadata": {},
     "outputs": []
    },
    {
     "cell_type": "markdown",
     "metadata": {},
     "source": [
      "Models\n",
      "------\n",
      "\n",
      "Scikit-learn is so well designed that swapping models in and out is too easy not to try. I looked for pretty much anything I could apply to a sparse matrix with negative entities. "
     ]
    },
    {
     "cell_type": "code",
     "collapsed": false,
     "input": [
      "from sklearn.linear_model import Perceptron, PassiveAggressiveClassifier, RidgeClassifier\n",
      "from sklearn import cross_validation\n",
      "from sklearn.naive_bayes import BernoulliNB\n",
      "from sklearn.svm import LinearSVC\n",
      "from sklearn.linear_model import SGDClassifier\n",
      "from sklearn.neighbors import NearestCentroid\n",
      "\n",
      "cv = cross_validation.KFold(all_h.shape[0], n_folds=5, shuffle=True)\n",
      "train,test = next(iter(cv)) # just use one of the folds\n",
      "\n",
      "clss = [\n",
      "        (\"Perceptron\", Perceptron(n_iter=50,n_jobs=2)),\n",
      "        (\"BernoulliNB\", BernoulliNB()),\n",
      "        (\"Ridge\", RidgeClassifier(tol=1e-2, solver=\"lsqr\")),\n",
      "        (\"NearestCentroid\", NearestCentroid()),\n",
      "        (\"LinearSVC l1\", LinearSVC(loss='l2', penalty=\"l1\", dual=False, tol=1e-3)),\n",
      "        (\"LinearSVC l2\", LinearSVC(loss='l2', penalty=\"l2\", dual=False, tol=1e-3)),\n",
      "        (\"SGD l1\", SGDClassifier(alpha=.0001, n_iter=50, penalty=\"l1\")),\n",
      "        (\"SGD l2\", SGDClassifier(alpha=.0001, n_iter=50, penalty=\"l2\")),\n",
      "        (\"SGD elasticnet\", SGDClassifier(alpha=.0001, n_iter=50, penalty=\"elasticnet\"))\n",
      "       ]\n",
      "results = [benchmark(cls,all_h,target,train,test) for cls in clss]"
     ],
     "language": "python",
     "metadata": {},
     "outputs": [
      {
       "output_type": "stream",
       "stream": "stdout",
       "text": [
        "________________________________________________________________________________\n",
        "Training: \n",
        "Perceptron(alpha=0.0001, class_weight=None, eta0=1.0, fit_intercept=True,\n",
        "      n_iter=50, n_jobs=2, penalty=None, random_state=0, shuffle=False,\n",
        "      verbose=0, warm_start=False)\n",
        "train time: 0.496s"
       ]
      },
      {
       "output_type": "stream",
       "stream": "stdout",
       "text": [
        "\n",
        "test time:  0.009s\n",
        "f1-score:   0.863\n",
        "confusion matrix:\n",
        "[[1080   53]\n",
        " [  67  377]]\n",
        "\n",
        "________________________________________________________________________________\n",
        "Training: \n",
        "BernoulliNB(alpha=1.0, binarize=0.0, class_prior=None, fit_prior=True)\n",
        "train time: 0.100s"
       ]
      },
      {
       "output_type": "stream",
       "stream": "stdout",
       "text": [
        "\n",
        "test time:  0.163s"
       ]
      },
      {
       "output_type": "stream",
       "stream": "stdout",
       "text": [
        "\n",
        "f1-score:   0.000\n",
        "confusion matrix:\n",
        "[[1133    0]\n",
        " [ 444    0]]\n",
        "\n",
        "________________________________________________________________________________\n",
        "Training: \n",
        "RidgeClassifier(alpha=1.0, class_weight=None, copy_X=True, fit_intercept=True,\n",
        "        max_iter=None, normalize=False, solver=lsqr, tol=0.01)\n",
        "train time: 50.880s"
       ]
      },
      {
       "output_type": "stream",
       "stream": "stdout",
       "text": [
        "\n",
        "test time:  0.008s\n",
        "f1-score:   0.866\n",
        "confusion matrix:\n",
        "[[1098   35]\n",
        " [  78  366]]\n",
        "\n",
        "________________________________________________________________________________\n",
        "Training: \n",
        "NearestCentroid(metric=euclidean, shrink_threshold=None)\n",
        "train time: 0.037s\n",
        "test time:  0.036s"
       ]
      },
      {
       "output_type": "stream",
       "stream": "stdout",
       "text": [
        "\n",
        "f1-score:   0.694\n",
        "confusion matrix:\n",
        "[[995 138]\n",
        " [135 309]]\n",
        "\n",
        "________________________________________________________________________________\n",
        "Training: \n",
        "LinearSVC(C=1.0, class_weight=None, dual=False, fit_intercept=True,\n",
        "     intercept_scaling=1, loss=l2, multi_class=ovr, penalty=l1,\n",
        "     random_state=None, tol=0.001, verbose=0)\n",
        "train time: 0.719s"
       ]
      },
      {
       "output_type": "stream",
       "stream": "stdout",
       "text": [
        "\n",
        "test time:  0.006s\n",
        "f1-score:   0.887\n",
        "confusion matrix:\n",
        "[[1099   34]\n",
        " [  63  381]]\n",
        "\n",
        "________________________________________________________________________________\n",
        "Training: \n",
        "LinearSVC(C=1.0, class_weight=None, dual=False, fit_intercept=True,\n",
        "     intercept_scaling=1, loss=l2, multi_class=ovr, penalty=l2,\n",
        "     random_state=None, tol=0.001, verbose=0)\n",
        "train time: 3.872s"
       ]
      },
      {
       "output_type": "stream",
       "stream": "stdout",
       "text": [
        "\n",
        "test time:  0.006s\n",
        "f1-score:   0.877\n",
        "confusion matrix:\n",
        "[[1087   46]\n",
        " [  61  383]]\n",
        "\n",
        "________________________________________________________________________________\n",
        "Training: \n",
        "SGDClassifier(alpha=0.0001, class_weight=None, epsilon=0.1, eta0=0.0,\n",
        "       fit_intercept=True, l1_ratio=0.15, learning_rate=optimal,\n",
        "       loss=hinge, n_iter=50, n_jobs=1, penalty=l1, power_t=0.5,\n",
        "       random_state=None, rho=None, shuffle=False, verbose=0,\n",
        "       warm_start=False)\n",
        "train time: 0.618s"
       ]
      },
      {
       "output_type": "stream",
       "stream": "stdout",
       "text": [
        "\n",
        "test time:  0.006s\n",
        "f1-score:   0.874\n",
        "confusion matrix:\n",
        "[[1087   46]\n",
        " [  64  380]]\n",
        "\n",
        "________________________________________________________________________________\n",
        "Training: \n",
        "SGDClassifier(alpha=0.0001, class_weight=None, epsilon=0.1, eta0=0.0,\n",
        "       fit_intercept=True, l1_ratio=0.15, learning_rate=optimal,\n",
        "       loss=hinge, n_iter=50, n_jobs=1, penalty=l2, power_t=0.5,\n",
        "       random_state=None, rho=None, shuffle=False, verbose=0,\n",
        "       warm_start=False)\n",
        "train time: 0.583s"
       ]
      },
      {
       "output_type": "stream",
       "stream": "stdout",
       "text": [
        "\n",
        "test time:  0.006s\n",
        "f1-score:   0.867\n",
        "confusion matrix:\n",
        "[[1087   46]\n",
        " [  69  375]]\n",
        "\n",
        "________________________________________________________________________________\n",
        "Training: \n",
        "SGDClassifier(alpha=0.0001, class_weight=None, epsilon=0.1, eta0=0.0,\n",
        "       fit_intercept=True, l1_ratio=0.15, learning_rate=optimal,\n",
        "       loss=hinge, n_iter=50, n_jobs=1, penalty=elasticnet, power_t=0.5,\n",
        "       random_state=None, rho=None, shuffle=False, verbose=0,\n",
        "       warm_start=False)\n",
        "train time: 0.611s"
       ]
      },
      {
       "output_type": "stream",
       "stream": "stdout",
       "text": [
        "\n",
        "test time:  0.006s\n",
        "f1-score:   0.873\n",
        "confusion matrix:\n",
        "[[1098   35]\n",
        " [  73  371]]\n",
        "\n"
       ]
      }
     ],
     "prompt_number": 27
    },
    {
     "cell_type": "code",
     "collapsed": false,
     "input": [
      "import pylab as pl\n",
      "\n",
      "indices = np.arange(len(results))\n",
      "\n",
      "collected = [[x[i] for x in results] for i in range(4)]\n",
      "\n",
      "clf_names, score, training_time, test_time = collected\n",
      "training_time = np.array(training_time) / np.max(training_time)\n",
      "test_time = np.array(test_time) / np.max(test_time)\n",
      "\n",
      "pl.title(\"Score\")\n",
      "pl.barh(indices, score, .2, label=\"score\", color='r')\n",
      "pl.barh(indices + .3, training_time, .2, label=\"training time\", color='g')\n",
      "pl.barh(indices + .6, test_time, .2, label=\"test time\", color='b')\n",
      "pl.yticks(())\n",
      "pl.legend(loc='lower left', bbox_to_anchor=(1,.5))\n",
      "pl.subplots_adjust(left=.25)\n",
      "\n",
      "for i, c in zip(indices, clf_names):\n",
      "    pl.text(-.3, i, c)\n",
      "\n"
     ],
     "language": "python",
     "metadata": {},
     "outputs": [
      {
       "output_type": "display_data",
       "png": "[encoded data removed]"
      }
     ],
     "prompt_number": 29
    },
    {
     "cell_type": "markdown",
     "metadata": {},
     "source": [
      "That's What She Said!\n",
      "=====================\n",
      "Great! Most of the models had similar performance, but on this data set it looks like LinearSVC performed well. Let's use this classifier to make crude jokes!"
     ]
    },
    {
     "cell_type": "code",
     "collapsed": false,
     "input": [
      "def to_sentences(document):\n",
      "    text = \"\"\n",
      "    for line in load(document):\n",
      "        text += line\n",
      "    return text.lower().split('.')\n",
      "\n",
      "clf = LinearSVC(loss='l2', penalty=\"l1\", dual=False, tol=1e-3)\n",
      "clf.fit(all_h,target)\n",
      "\n",
      "def get_twss(fn):\n",
      "    sentences = to_sentences(fn)\n",
      "    hashed = fh.transform(map(tokens,sentences))\n",
      "    twss_pairs = filter(lambda x : x[1] == 1, zip(sentences,clf.predict(hashed)))\n",
      "    return map(lambda x : x[0], twss_pairs)\n"
     ],
     "language": "python",
     "metadata": {},
     "outputs": [],
     "prompt_number": 57
    },
    {
     "cell_type": "markdown",
     "metadata": {},
     "source": [
      "State of the Union\n",
      "------------------\n",
      "\n",
      "First let's try Obama's 2013 State of the Union. Shouldn't expect too much from here, as most of these sentences will probably be non personal and contain policy related language. "
     ]
    },
    {
     "cell_type": "code",
     "collapsed": false,
     "input": [
      "for s in get_twss(\"data/2013-state-of-union.txt\"):\n",
      "    print(s.strip())"
     ],
     "language": "python",
     "metadata": {},
     "outputs": [
      {
       "output_type": "stream",
       "stream": "stdout",
       "text": [
        "but we gather here knowing that there are millions of americans whose hard work and dedication have not yet been rewarded\n",
        "it is our unfinished task to restore the basic bargain that built this country \u2013 the idea that if you work hard and meet your responsibilities, you can get ahead, no matter where you come from, what you look like, or who you love\n",
        "now, some in this congress have proposed preventing only the defense cuts by making even bigger cuts to things like education and job training; medicare and social security benefits\n",
        "our government shouldn\u2019t make promises we cannot keep \u2013 but we must keep the promises we\u2019ve already made\n",
        "the politics will be hard for both sides\n",
        "it\u2019s not a bigger government we need, but a smarter government that sets priorities and invests in broad-based growth\n",
        "there are things we can do, right now, to accelerate this trend\n",
        "we produce more natural gas than ever before \u2013 and nearly everyone\u2019s energy bill is lower because of it\n",
        "solar energy gets cheaper by the year \u2013 so let\u2019s drive costs down even further\n",
        "as long as countries like china keep going all-in on clean energy, so must we\n",
        "if a non-partisan coalition of ceos and retired generals and admirals can get behind this idea, then so can we\n",
        "and i know that you want these job-creating projects in your districts\n",
        "now, even with better high schools, most young people will need some higher education\n",
        "tonight, let\u2019s also recognize that there are communities in this country where no matter how hard you work, it\u2019s virtually impossible to get ahead\n",
        "let\u2019s offer incentives to companies that hire americans who\u2019ve got what it takes to fill that job opening, but have been out of work so long that no one will give them a chance\n",
        "i recognize that in our democracy, no one should just take my word that we\u2019re doing things the right way\n",
        "overwhelming majorities of americans \u2013 americans who believe in the 2nd amendment \u2013 have come together around commonsense reform \u2013 like background checks that will make it harder for criminals to get their hands on a gun\n",
        "police chiefs are asking our help to get weapons of war and massive ammunition magazines off our streets, because they are tired of being outgunned\n"
       ]
      }
     ],
     "prompt_number": 63
    },
    {
     "cell_type": "markdown",
     "metadata": {},
     "source": [
      "Hah! most of these are bad and it's not hard to see why they were misclassified, a lot of use of comparitive adjectives like bigger, harder further, etc. There are a couple good ones though, I enjoyed:\n",
      "\n",
      "* the politics will be hard for both sides\n",
      "\n",
      "* we produce more natural gas than ever before \u2013 and nearly everyone\u2019s energy bill is lower because of it\n",
      "\n",
      "* there are things we can do, right now, to accelerate this trend\n",
      "\n",
      "Let's see if there is anything better in George Bush's 2002 state of the union. If I remember correctly we could broach some sensitive topics, hot dog!\n"
     ]
    },
    {
     "cell_type": "code",
     "collapsed": false,
     "input": [
      "for s in get_twss(\"data/2002-state-of-union.txt\"):\n",
      "    print(s.strip())"
     ],
     "language": "python",
     "metadata": {},
     "outputs": [
      {
       "output_type": "stream",
       "stream": "stdout",
       "text": [
        "when i called our troops into action, i did so with complete confidence in their courage and skill\n",
        "i don't want to play football until i can play with you again some day\n",
        "so long as training camps operate, so long as nations harbor terrorists, freedom is at risk\n",
        "our war on terror is well begun, but it is only begun\n",
        "this campaign may not be finished on our watch \u2014 yet it must be and it will be waged on our watch\n",
        "we can't stop short\n",
        "last year, some in this hall thought my tax relief plan was too small; some thought it was too big\n",
        "employees who have worked hard and saved all their lives should not have to risk losing everything if their company fails\n",
        "for too long our culture has said, \"if it feels good, do it\n",
        "we've come to know truths that we will never question: evil is real, and it must be opposed\n",
        "deep in the american character, there is honor, and it is stronger than cynicism\n"
       ]
      }
     ],
     "prompt_number": 62
    },
    {
     "cell_type": "markdown",
     "metadata": {},
     "source": [
      "Bahaha! Amazing! Almost all of these are perfect twss candidates, or so far from it that it's wonderful. "
     ]
    },
    {
     "cell_type": "markdown",
     "metadata": {},
     "source": [
      "And with that, all possible remnants of humor left in the That's What She Said jokes have been taken out to the shed and shot."
     ]
    }
   ],
   "metadata": {}
  }
 ]
}